{
 "cells": [
  {
   "cell_type": "code",
   "execution_count": 2,
   "metadata": {},
   "outputs": [],
   "source": [
    "import numpy as np\n",
    "import pandas as pd\n",
    "import matplotlib.pyplot as plt"
   ]
  },
  {
   "cell_type": "code",
   "execution_count": 3,
   "metadata": {},
   "outputs": [],
   "source": [
    "import torch\n",
    "from torch import nn\n",
    "from torchvision import datasets, transforms\n",
    "from torch.utils.data import DataLoader, Dataset, random_split"
   ]
  },
  {
   "cell_type": "code",
   "execution_count": 4,
   "metadata": {},
   "outputs": [],
   "source": [
    "transform = transforms.Compose([\n",
    "\ttransforms.ToTensor(),\n",
    "\ttransforms.Normalize((0.5,), (0.5,))\n",
    "])\n",
    "\n",
    "dataset = datasets.ImageFolder('data', transform=transform)"
   ]
  },
  {
   "cell_type": "code",
   "execution_count": 5,
   "metadata": {},
   "outputs": [],
   "source": [
    "TRAIN_PORTION = 0.8\n",
    "\n",
    "train_size = int(TRAIN_PORTION * len(dataset))\n",
    "test_size = len(dataset) - train_size\n",
    "\n",
    "train_dataset, test_dataset = random_split(dataset, [train_size, test_size])"
   ]
  },
  {
   "cell_type": "code",
   "execution_count": 6,
   "metadata": {},
   "outputs": [],
   "source": [
    "train_loader = DataLoader(train_dataset, batch_size=64, shuffle=True)\n",
    "test_loader = DataLoader(test_dataset, batch_size=64, shuffle=True)"
   ]
  },
  {
   "cell_type": "code",
   "execution_count": 17,
   "metadata": {},
   "outputs": [],
   "source": [
    "class FaceClasifier(nn.Module):\n",
    "\tdef __init__(self):\n",
    "\t\tsuper(FaceClasifier, self).__init__()\n",
    "\t\tself.conv1 = nn.Conv2d(3, 32, kernel_size=3, stride=1)\n",
    "\t\tself.conv2 = nn.Conv2d(32, 64, kernel_size=5, stride=2)\n",
    "\t\tself.pool = nn.MaxPool2d(3, 3)\n",
    "\t\tself.fc1 = nn.Linear(64 * 32 * 32, 128)\n",
    "\t\tself.fc2 = nn.Linear(128, 2)\n",
    "\t\tself.dropout = nn.Dropout(0.25)\n",
    "\t\tself.relu = nn.LeakyReLU()\n",
    "\n",
    "\tdef forward(self, x):\n",
    "\t\tx = self.pool(self.relu(self.conv1(x)))\n",
    "\t\tx = self.pool(self.relu(self.conv2(x)))\n",
    "\t\tx = x.view(-1, 64 * 32 * 32)\n",
    "\t\tx = self.relu(self.fc1(x))\n",
    "\t\tx = self.fc2(x)\n",
    "\t\treturn x"
   ]
  },
  {
   "cell_type": "code",
   "execution_count": 18,
   "metadata": {},
   "outputs": [],
   "source": [
    "model = FaceClasifier()"
   ]
  },
  {
   "cell_type": "code",
   "execution_count": 19,
   "metadata": {},
   "outputs": [
    {
     "name": "stdout",
     "output_type": "stream",
     "text": [
      "conv1.weight 864\n",
      "conv1.bias 32\n",
      "conv2.weight 51200\n",
      "conv2.bias 64\n",
      "fc1.weight 8388608\n",
      "fc1.bias 128\n",
      "fc2.weight 256\n",
      "fc2.bias 2\n",
      "------------------\n",
      "Total parameters: 8441154\n"
     ]
    }
   ],
   "source": [
    "for name, param in model.named_parameters():\n",
    "\t# print parameter name and size\n",
    "\tprint(name, param.numel())\n",
    "print('------------------')\n",
    "print(f'Total parameters: {sum(p.numel() for p in model.parameters()):,}')"
   ]
  },
  {
   "cell_type": "code",
   "execution_count": 20,
   "metadata": {},
   "outputs": [],
   "source": [
    "criteria = nn.CrossEntropyLoss()\n",
    "optimizer = torch.optim.Adam(model.parameters(), lr=0.001)"
   ]
  },
  {
   "cell_type": "code",
   "execution_count": 21,
   "metadata": {},
   "outputs": [
    {
     "name": "stdout",
     "output_type": "stream",
     "text": [
      "Epoch: 1, Batch: 10, Loss: 1.2046668350696563\n",
      "Epoch: 1, Batch: 20, Loss: 0.3468789756298065\n",
      "Epoch: 2, Batch: 10, Loss: 0.6788401305675507\n",
      "Epoch: 2, Batch: 20, Loss: 0.33881733417510984\n",
      "Epoch: 3, Batch: 10, Loss: 0.6719120919704438\n",
      "Epoch: 3, Batch: 20, Loss: 0.323357480764389\n",
      "Epoch: 4, Batch: 10, Loss: 0.6132462382316589\n",
      "Epoch: 4, Batch: 20, Loss: 0.32422320246696473\n",
      "Epoch: 5, Batch: 10, Loss: 0.6445241749286652\n",
      "Epoch: 5, Batch: 20, Loss: 0.304659315943718\n",
      "Epoch: 6, Batch: 10, Loss: 0.5809789955615997\n",
      "Epoch: 6, Batch: 20, Loss: 0.28673924654722216\n",
      "Epoch: 7, Batch: 10, Loss: 0.572023457288742\n",
      "Epoch: 7, Batch: 20, Loss: 0.2814085423946381\n",
      "Epoch: 8, Batch: 10, Loss: 0.5039528787136078\n"
     ]
    }
   ],
   "source": [
    "num_epochs = 10\n",
    "from collections import defaultdict\n",
    "\n",
    "train_losses = defaultdict(list)\n",
    "\n",
    "for epoch in range(num_epochs):\n",
    "\trunning_loss = 0.0\n",
    "\tfor i, (inputs, label) in enumerate(train_loader, 1):\n",
    "\t\toptimizer.zero_grad()\n",
    "\t\toutputs = model(inputs)\n",
    "\t\tloss = criteria(outputs, label)\n",
    "\t\tloss.backward()\n",
    "\t\toptimizer.step()\n",
    "\t\trunning_loss += loss.item()\n",
    "\t\tif i % 10 == 0:\n",
    "\t\t\tprint(f'Epoch: {epoch + 1}, Batch: {i}, Loss: {running_loss / i}')\n",
    "\t\t\ttrain_losses['batch'].append(i + epoch * len(train_loader))\n",
    "\t\t\ttrain_losses['loss'].append(running_loss / i)\n",
    "\t\t\trunning_loss = 0.0\n",
    "\n",
    "print('Finished Training')"
   ]
  },
  {
   "cell_type": "code",
   "execution_count": null,
   "metadata": {},
   "outputs": [],
   "source": [
    "# test accuracy\n",
    "correct = 0\n",
    "total = 0\n",
    "for inputs, label in test_loader:\n",
    "\toutputs = model(inputs)\n",
    "\t_, predicted = torch.max(outputs.data, 1)\n",
    "\ttotal += label.size(0)\n",
    "\tcorrect += (predicted == label).sum().item()\n",
    "\n",
    "print(f'Accuracy of the network on the {total} test images: {100 * correct / total:.2f}%')"
   ]
  }
 ],
 "metadata": {
  "kernelspec": {
   "display_name": "base",
   "language": "python",
   "name": "python3"
  },
  "language_info": {
   "codemirror_mode": {
    "name": "ipython",
    "version": 3
   },
   "file_extension": ".py",
   "mimetype": "text/x-python",
   "name": "python",
   "nbconvert_exporter": "python",
   "pygments_lexer": "ipython3",
   "version": "3.10.8"
  },
  "orig_nbformat": 4
 },
 "nbformat": 4,
 "nbformat_minor": 2
}

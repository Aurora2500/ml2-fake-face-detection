{
 "cells": [
  {
   "cell_type": "code",
   "execution_count": 2,
   "metadata": {},
   "outputs": [],
   "source": [
    "import numpy as np\n",
    "import pandas as pd\n",
    "import matplotlib.pyplot as plt\n",
    "from tqdm.notebook import tqdm"
   ]
  },
  {
   "cell_type": "code",
   "execution_count": 3,
   "metadata": {},
   "outputs": [],
   "source": [
    "import torch\n",
    "from torch import nn\n",
    "from torchvision import datasets, transforms, models\n",
    "from torch.utils.data import DataLoader, Dataset, random_split"
   ]
  },
  {
   "cell_type": "code",
   "execution_count": 4,
   "metadata": {},
   "outputs": [
    {
     "data": {
      "text/plain": [
       "device(type='cuda')"
      ]
     },
     "execution_count": 4,
     "metadata": {},
     "output_type": "execute_result"
    }
   ],
   "source": [
    "device = torch.device('cuda' if torch.cuda.is_available() else 'cpu')\n",
    "device"
   ]
  },
  {
   "attachments": {},
   "cell_type": "markdown",
   "metadata": {},
   "source": [
    "# Data loading"
   ]
  },
  {
   "cell_type": "code",
   "execution_count": 5,
   "metadata": {},
   "outputs": [],
   "source": [
    "transform = transforms.Compose([\n",
    "\ttransforms.ToTensor(),\n",
    "\ttransforms.Normalize((0.5,), (0.5,))\n",
    "])\n",
    "\n",
    "# the dataset is 600 by 600\n",
    "dataset = datasets.ImageFolder('data', transform=transform)"
   ]
  },
  {
   "cell_type": "code",
   "execution_count": 6,
   "metadata": {},
   "outputs": [],
   "source": [
    "TRAIN_PORTION = 0.8\n",
    "\n",
    "train_size = int(TRAIN_PORTION * len(dataset))\n",
    "test_size = len(dataset) - train_size\n",
    "\n",
    "train_dataset, test_dataset = random_split(dataset, [train_size, test_size])"
   ]
  },
  {
   "cell_type": "code",
   "execution_count": 6,
   "metadata": {},
   "outputs": [],
   "source": [
    "train_loader = DataLoader(train_dataset, batch_size=64, shuffle=True)\n",
    "test_loader = DataLoader(test_dataset, batch_size=64, shuffle=True)"
   ]
  },
  {
   "attachments": {},
   "cell_type": "markdown",
   "metadata": {},
   "source": [
    "# Homebrew CNN"
   ]
  },
  {
   "cell_type": "code",
   "execution_count": 24,
   "metadata": {},
   "outputs": [],
   "source": [
    "class FaceClasifier(nn.Module):\n",
    "\tdef __init__(self):\n",
    "\t\tsuper(FaceClasifier, self).__init__()\n",
    "\t\tself.conv1 = nn.Conv2d(3, 16, kernel_size=3, stride=1)\n",
    "\t\tself.conv2 = nn.Conv2d(16, 32, kernel_size=5, stride=2)\n",
    "\t\tself.pool = nn.MaxPool2d(3, 3)\n",
    "\t\tself.fc1 = nn.Linear(32 * 32 * 32, 128)\n",
    "\t\tself.fc2 = nn.Linear(128, 2)\n",
    "\t\tself.dropout = nn.Dropout(0.25)\n",
    "\t\tself.relu = nn.LeakyReLU()\n",
    "\n",
    "\tdef forward(self, x):\n",
    "\t\t# x 3x600x600\n",
    "\t\tx = self.pool(self.relu(self.conv1(x)))\n",
    "\t\t# x 16x199x199\n",
    "\t\tx = self.pool(self.relu(self.conv2(x)))\n",
    "\t\t# x 32x32x32\n",
    "\t\tx = x.view(-1, 32 * 32 * 32)\n",
    "\t\tx = self.relu(self.fc1(x))\n",
    "\t\tx = self.fc2(x)\n",
    "\t\treturn x"
   ]
  },
  {
   "cell_type": "code",
   "execution_count": 25,
   "metadata": {},
   "outputs": [],
   "source": [
    "model = FaceClasifier().to(device)"
   ]
  },
  {
   "cell_type": "code",
   "execution_count": 26,
   "metadata": {},
   "outputs": [
    {
     "name": "stdout",
     "output_type": "stream",
     "text": [
      "conv1.weight              432\n",
      "conv1.bias                 16\n",
      "conv2.weight           12,800\n",
      "conv2.bias                 32\n",
      "fc1.weight          4,194,304\n",
      "fc1.bias                  128\n",
      "fc2.weight                256\n",
      "fc2.bias                    2\n",
      "-----------------------------\n",
      "Total parameters:   4,207,970\n"
     ]
    }
   ],
   "source": [
    "for name, param in model.named_parameters():\n",
    "\t# print parameter name and size\n",
    "\tprint(f\"{name: <13} {param.numel(): >15,}\")\n",
    "print('-----------------------------')\n",
    "print(f'Total parameters: {sum(p.numel() for p in model.parameters()): >11,}')"
   ]
  },
  {
   "cell_type": "code",
   "execution_count": 27,
   "metadata": {},
   "outputs": [],
   "source": [
    "criteria = nn.CrossEntropyLoss()\n",
    "optimizer = torch.optim.Adam(model.parameters(), lr=0.001)"
   ]
  },
  {
   "cell_type": "code",
   "execution_count": 31,
   "metadata": {},
   "outputs": [
    {
     "data": {
      "application/vnd.jupyter.widget-view+json": {
       "model_id": "7f89431aa9bc4f6d82858c48aee8764c",
       "version_major": 2,
       "version_minor": 0
      },
      "text/plain": [
       "Epoch 1/3:   0%|          | 0/26 [00:00<?, ?it/s]"
      ]
     },
     "metadata": {},
     "output_type": "display_data"
    },
    {
     "data": {
      "application/vnd.jupyter.widget-view+json": {
       "model_id": "c3a01e40b3a347a29c39c64978fd3a7b",
       "version_major": 2,
       "version_minor": 0
      },
      "text/plain": [
       "Epoch 2/3:   0%|          | 0/26 [00:00<?, ?it/s]"
      ]
     },
     "metadata": {},
     "output_type": "display_data"
    },
    {
     "data": {
      "application/vnd.jupyter.widget-view+json": {
       "model_id": "dc4e0f5c9b3d4beab48e2d61a680b734",
       "version_major": 2,
       "version_minor": 0
      },
      "text/plain": [
       "Epoch 3/3:   0%|          | 0/26 [00:00<?, ?it/s]"
      ]
     },
     "metadata": {},
     "output_type": "display_data"
    },
    {
     "name": "stdout",
     "output_type": "stream",
     "text": [
      "Finished Training\n"
     ]
    }
   ],
   "source": [
    "num_epochs = 3\n",
    "from collections import defaultdict\n",
    "\n",
    "train_losses = defaultdict(list)\n",
    "\n",
    "for epoch in range(num_epochs):\n",
    "\tnum_batches = len(train_loader)\n",
    "\tfor i, (inputs, label) in tqdm(enumerate(train_loader, 1), total=num_batches, desc=f\"Epoch {epoch + 1}/{num_epochs}\"):\n",
    "\t\tinputs = inputs.to(device)\n",
    "\t\tlabel = label.to(device)\n",
    "\t\toptimizer.zero_grad()\n",
    "\t\toutputs = model(inputs)\n",
    "\t\tloss = criteria(outputs, label)\n",
    "\t\tloss.backward()\n",
    "\t\toptimizer.step()\n",
    "\t\ttrain_losses[\"batch\"].append(i + num_batches * epoch)\n",
    "\t\ttrain_losses[\"loss\"].append(loss.item())\n",
    "\n",
    "print('Finished Training')"
   ]
  },
  {
   "cell_type": "code",
   "execution_count": 32,
   "metadata": {},
   "outputs": [
    {
     "name": "stdout",
     "output_type": "stream",
     "text": [
      "Accuracy of the network on the 409 test images: 60.15%\n"
     ]
    }
   ],
   "source": [
    "# test accuracy\n",
    "correct = 0\n",
    "total = 0\n",
    "for inputs, label in test_loader:\n",
    "\tinputs = inputs.to(device)\n",
    "\tlabel = label.to(device)\n",
    "\toutputs = model(inputs)\n",
    "\t_, predicted = torch.max(outputs.data, 1)\n",
    "\ttotal += label.size(0)\n",
    "\tcorrect += (predicted == label).sum().item()\n",
    "\n",
    "print(f'Accuracy of the network on the {total} test images: {100 * correct / total:.2f}%')"
   ]
  },
  {
   "cell_type": "code",
   "execution_count": 34,
   "metadata": {},
   "outputs": [
    {
     "name": "stdout",
     "output_type": "stream",
     "text": [
      "Accuracy of the network on the 1632 train images: 67.71%\n"
     ]
    }
   ],
   "source": [
    "# train accuracy\n",
    "correct = 0\n",
    "total = 0\n",
    "for inputs, label in train_loader:\n",
    "\tinputs = inputs.to(device)\n",
    "\tlabel = label.to(device)\n",
    "\toutputs = model(inputs)\n",
    "\t_, predicted = torch.max(outputs.data, 1)\n",
    "\ttotal += label.size(0)\n",
    "\tcorrect += (predicted == label).sum().item()\n",
    "\n",
    "print(f'Accuracy of the network on the {total} train images: {100 * correct / total:.2f}%')"
   ]
  },
  {
   "attachments": {},
   "cell_type": "markdown",
   "metadata": {},
   "source": [
    "# Trying different non sequential models"
   ]
  },
  {
   "cell_type": "code",
   "execution_count": 7,
   "metadata": {},
   "outputs": [],
   "source": [
    "class NonSequentialFaceClassifieir(nn.Module):\n",
    "\tdef __init__(self):\n",
    "\t\tsuper(NonSequentialFaceClassifieir, self).__init__()\n",
    "\t\tself.start_conv = nn.Conv2d(3, 16, kernel_size=3, stride=1)\n",
    "\n",
    "\t\tself.left_conv1 = nn.Conv2d(16, 24, kernel_size=5, stride=1)\n",
    "\t\tself.left_conv2 = nn.Conv2d(24, 32, kernel_size=5, stride=1)\n",
    "\t\tself.left_conv3 = nn.Conv2d(32, 4, kernel_size=7, stride=1)\n",
    "\n",
    "\t\tself.right_conv1 = nn.Conv2d(16, 24, kernel_size=3, stride=1)\n",
    "\t\tself.right_conv2 = nn.Conv2d(24, 32, kernel_size=3, stride=1)\n",
    "\t\tself.right_conv3 = nn.Conv2d(32, 4, kernel_size=7, stride=1)\n",
    "\n",
    "\t\tself.left_fc = nn.Linear(4*20*20, 32)\n",
    "\t\tself.right_fc = nn.Linear(4*21*21, 32)\n",
    "\t\tself.join_fc = nn.Linear(64, 2)\n",
    "\t\t\n",
    "\t\tself.pool2 = nn.MaxPool2d(2, 2)\n",
    "\t\tself.pool3 = nn.MaxPool2d(3, 3)\n",
    "\t\t#self.dropout = nn.Dropout(0.25)\n",
    "\t\tself.relu = nn.LeakyReLU()\n",
    "\n",
    "\tdef forward(self, x):\n",
    "\t\t# x 3x600x600\n",
    "\t\tx = self.pool2(self.relu(self.start_conv(x)))\n",
    "\t\t# x 16x299x299\n",
    "\n",
    "\t\tleft = self.pool2(self.relu(self.left_conv1(x)))\n",
    "\t\t# left 24x147x147\n",
    "\t\tleft = self.pool3(self.relu(self.left_conv2(left)))\n",
    "\t\t# left 32x47x47\n",
    "\t\tleft = self.pool2(self.relu(self.left_conv3(left)))\n",
    "\t\t# left 4x21x21\n",
    "\t\tleft = left.view(-1, 4*20*20)\n",
    "\t\tleft = self.relu(self.left_fc(left))\n",
    "\n",
    "\t\tright = self.pool2(self.relu(self.right_conv1(x)))\n",
    "\t\t# right 24x148x148\n",
    "\t\tright = self.pool3(self.relu(self.right_conv2(right)))\n",
    "\t\t# right 32x48x48\n",
    "\t\tright = self.pool2(self.relu(self.right_conv3(right)))\n",
    "\t\t# right 4x21x21\n",
    "\t\tright = right.view(-1, 4*21*21)\n",
    "\t\tright = self.relu(self.right_fc(right))\n",
    "\n",
    "\t\tx = torch.cat((left, right), dim=1)\n",
    "\t\tx = self.join_fc(x)\n",
    "\t\treturn x"
   ]
  },
  {
   "cell_type": "code",
   "execution_count": 8,
   "metadata": {},
   "outputs": [],
   "source": [
    "model = NonSequentialFaceClassifieir().to(device)"
   ]
  },
  {
   "cell_type": "code",
   "execution_count": 9,
   "metadata": {},
   "outputs": [
    {
     "name": "stdout",
     "output_type": "stream",
     "text": [
      "start_conv.weight              432\n",
      "start_conv.bias                 16\n",
      "left_conv1.weight            9,600\n",
      "left_conv1.bias                 24\n",
      "left_conv2.weight           19,200\n",
      "left_conv2.bias                 32\n",
      "left_conv3.weight            6,272\n",
      "left_conv3.bias                  4\n",
      "right_conv1.weight           3,456\n",
      "right_conv1.bias                24\n",
      "right_conv2.weight           6,912\n",
      "right_conv2.bias                32\n",
      "right_conv3.weight           6,272\n",
      "right_conv3.bias                 4\n",
      "left_fc.weight              51,200\n",
      "left_fc.bias                    32\n",
      "right_fc.weight             56,448\n",
      "right_fc.bias                   32\n",
      "join_fc.weight                 128\n",
      "join_fc.bias                     2\n",
      "-----------------------------------\n",
      "Total parameters:          160,122\n"
     ]
    }
   ],
   "source": [
    "for name, param in model.named_parameters():\n",
    "\t# print parameter name and size\n",
    "\tprint(f\"{name: <18} {param.numel(): >15,}\")\n",
    "print('-----------------------------------')\n",
    "print(f'Total parameters: {sum(p.numel() for p in model.parameters()): >16,}')"
   ]
  },
  {
   "cell_type": "code",
   "execution_count": 10,
   "metadata": {},
   "outputs": [],
   "source": [
    "criteria = nn.CrossEntropyLoss()\n",
    "optimizer = torch.optim.Adam(model.parameters(), lr=0.001)"
   ]
  },
  {
   "cell_type": "code",
   "execution_count": 11,
   "metadata": {},
   "outputs": [
    {
     "data": {
      "application/vnd.jupyter.widget-view+json": {
       "model_id": "c4014f62267a49cdbeee59d8f151eada",
       "version_major": 2,
       "version_minor": 0
      },
      "text/plain": [
       "Epoch 1/3:   0%|          | 0/26 [00:00<?, ?it/s]"
      ]
     },
     "metadata": {},
     "output_type": "display_data"
    },
    {
     "name": "stdout",
     "output_type": "stream",
     "text": [
      "batch: 1 loss: 0.708857536315918\n",
      "batch: 2 loss: 0.6983399391174316\n",
      "batch: 3 loss: 0.6713575720787048\n",
      "batch: 4 loss: 0.841963529586792\n",
      "batch: 5 loss: 0.733074963092804\n",
      "batch: 6 loss: 0.6964792609214783\n",
      "batch: 7 loss: 0.6984120011329651\n",
      "batch: 8 loss: 0.7125332355499268\n",
      "batch: 9 loss: 0.7032606601715088\n",
      "batch: 10 loss: 0.7037613987922668\n",
      "batch: 11 loss: 0.7031676769256592\n",
      "batch: 12 loss: 0.6948886513710022\n",
      "batch: 13 loss: 0.6926650404930115\n",
      "batch: 14 loss: 0.6957420706748962\n",
      "batch: 15 loss: 0.6950023770332336\n",
      "batch: 16 loss: 0.6971662044525146\n",
      "batch: 17 loss: 0.6922069191932678\n",
      "batch: 18 loss: 0.6917958855628967\n",
      "batch: 19 loss: 0.6907815933227539\n",
      "batch: 20 loss: 0.6924480199813843\n",
      "batch: 21 loss: 0.7008078098297119\n",
      "batch: 22 loss: 0.6918615698814392\n",
      "batch: 23 loss: 0.691635012626648\n",
      "batch: 24 loss: 0.6945517659187317\n",
      "batch: 25 loss: 0.6864508986473083\n",
      "batch: 26 loss: 0.7000986337661743\n",
      "Epoch [1/3], Loss: 0.7001\n"
     ]
    },
    {
     "data": {
      "application/vnd.jupyter.widget-view+json": {
       "model_id": "8d30ca9045404c62ae2b4b92885ffe54",
       "version_major": 2,
       "version_minor": 0
      },
      "text/plain": [
       "Epoch 2/3:   0%|          | 0/26 [00:00<?, ?it/s]"
      ]
     },
     "metadata": {},
     "output_type": "display_data"
    },
    {
     "name": "stdout",
     "output_type": "stream",
     "text": [
      "batch: 27 loss: 0.653517484664917\n",
      "batch: 28 loss: 0.6976638436317444\n",
      "batch: 29 loss: 0.7380903363227844\n",
      "batch: 30 loss: 0.6851528286933899\n",
      "batch: 31 loss: 0.6865273714065552\n",
      "batch: 32 loss: 0.6894882321357727\n",
      "batch: 33 loss: 0.6970022916793823\n",
      "batch: 34 loss: 0.688902735710144\n",
      "batch: 35 loss: 0.6942437291145325\n",
      "batch: 36 loss: 0.6881240606307983\n",
      "batch: 37 loss: 0.6868188977241516\n",
      "batch: 38 loss: 0.6982330083847046\n",
      "batch: 39 loss: 0.6890639066696167\n",
      "batch: 40 loss: 0.6864609122276306\n",
      "batch: 41 loss: 0.6847558617591858\n",
      "batch: 42 loss: 0.6871620416641235\n",
      "batch: 43 loss: 0.673317551612854\n",
      "batch: 44 loss: 0.6594820618629456\n",
      "batch: 45 loss: 0.697297215461731\n",
      "batch: 46 loss: 0.7147015333175659\n",
      "batch: 47 loss: 0.6770121455192566\n",
      "batch: 48 loss: 0.6740806102752686\n",
      "batch: 49 loss: 0.6753422617912292\n",
      "batch: 50 loss: 0.6952528953552246\n",
      "batch: 51 loss: 0.6787893176078796\n",
      "batch: 52 loss: 0.7029276490211487\n",
      "Epoch [2/3], Loss: 0.7029\n"
     ]
    },
    {
     "data": {
      "application/vnd.jupyter.widget-view+json": {
       "model_id": "85757460259a4a58b50835035230c5c3",
       "version_major": 2,
       "version_minor": 0
      },
      "text/plain": [
       "Epoch 3/3:   0%|          | 0/26 [00:00<?, ?it/s]"
      ]
     },
     "metadata": {},
     "output_type": "display_data"
    },
    {
     "name": "stdout",
     "output_type": "stream",
     "text": [
      "batch: 53 loss: 0.691433846950531\n",
      "batch: 54 loss: 0.641864538192749\n",
      "batch: 55 loss: 0.649276077747345\n",
      "batch: 56 loss: 0.6657522320747375\n",
      "batch: 57 loss: 0.747175931930542\n",
      "batch: 58 loss: 0.6384537816047668\n",
      "batch: 59 loss: 0.6677986979484558\n",
      "batch: 60 loss: 0.6637804508209229\n",
      "batch: 61 loss: 0.6843648552894592\n",
      "batch: 62 loss: 0.6781657338142395\n",
      "batch: 63 loss: 0.6499625444412231\n",
      "batch: 64 loss: 0.6760348677635193\n",
      "batch: 65 loss: 0.6681972146034241\n",
      "batch: 66 loss: 0.6503133773803711\n",
      "batch: 67 loss: 0.6462848782539368\n",
      "batch: 68 loss: 0.6453086733818054\n",
      "batch: 69 loss: 0.6650817394256592\n",
      "batch: 70 loss: 0.7145400643348694\n",
      "batch: 71 loss: 0.6479955315589905\n",
      "batch: 72 loss: 0.5719088315963745\n",
      "batch: 73 loss: 0.7448041439056396\n",
      "batch: 74 loss: 0.6292271018028259\n",
      "batch: 75 loss: 0.7319128513336182\n",
      "batch: 76 loss: 0.7165075540542603\n",
      "batch: 77 loss: 0.7169836163520813\n",
      "batch: 78 loss: 0.7022318243980408\n",
      "Epoch [3/3], Loss: 0.7022\n"
     ]
    }
   ],
   "source": [
    "num_epochs = 3\n",
    "from collections import defaultdict\n",
    "history = defaultdict(list)\n",
    "\n",
    "for epoch in range(num_epochs):\n",
    "\tfor i, (train, label) in tqdm(enumerate(train_loader, 1), total=len(train_loader), desc=f\"Epoch {epoch + 1}/{num_epochs}\"):\n",
    "\t\ttrain = train.to(device)\n",
    "\t\tlabel = label.to(device)\n",
    "\t\toptimizer.zero_grad()\n",
    "\t\toutputs = model(train)\n",
    "\t\tloss = criteria(outputs, label)\n",
    "\t\tloss.backward()\n",
    "\t\toptimizer.step()\n",
    "\t\thistory[\"batch\"].append(i + len(train_loader) * epoch)\n",
    "\t\thistory[\"loss\"].append(loss.item())\n",
    "\t\tprint(\"batch:\", i + len(train_loader) * epoch, \"loss:\", loss.item())\n",
    "\tprint (f'Epoch [{epoch+1}/{num_epochs}], Loss: {loss.item():.4f}')"
   ]
  },
  {
   "cell_type": "code",
   "execution_count": 12,
   "metadata": {},
   "outputs": [
    {
     "name": "stdout",
     "output_type": "stream",
     "text": [
      "Accuracy of the network on the 1632 train images: 49.26%\n"
     ]
    }
   ],
   "source": [
    "# train accuracy\n",
    "correct = 0\n",
    "total = 0\n",
    "for inputs, label in train_loader:\n",
    "\tinputs = inputs.to(device)\n",
    "\tlabel = label.to(device)\n",
    "\toutputs = model(inputs)\n",
    "\t_, predicted = torch.max(outputs.data, 1)\n",
    "\ttotal += label.size(0)\n",
    "\tcorrect += (predicted == label).sum().item()\n",
    "\n",
    "print(f'Accuracy of the network on the {total} train images: {100 * correct / total:.2f}%')"
   ]
  },
  {
   "cell_type": "code",
   "execution_count": 13,
   "metadata": {},
   "outputs": [
    {
     "name": "stdout",
     "output_type": "stream",
     "text": [
      "Accuracy of the network on the 409 test images: 49.63%\n"
     ]
    }
   ],
   "source": [
    "# test accuracy\n",
    "correct = 0\n",
    "total = 0\n",
    "for inputs, label in test_loader:\n",
    "\tinputs = inputs.to(device)\n",
    "\tlabel = label.to(device)\n",
    "\toutputs = model(inputs)\n",
    "\t_, predicted = torch.max(outputs.data, 1)\n",
    "\ttotal += label.size(0)\n",
    "\tcorrect += (predicted == label).sum().item()\n",
    "\n",
    "print(f'Accuracy of the network on the {total} test images: {100 * correct / total:.2f}%')"
   ]
  },
  {
   "cell_type": "code",
   "execution_count": null,
   "metadata": {},
   "outputs": [],
   "source": [
    "import matplotlib.pyplot as plt\n",
    "\n",
    "plt.plot(history[\"batch\"], history[\"loss\"])"
   ]
  },
  {
   "attachments": {},
   "cell_type": "markdown",
   "metadata": {},
   "source": [
    "# VGG16 transfer learning"
   ]
  },
  {
   "cell_type": "code",
   "execution_count": 1,
   "metadata": {},
   "outputs": [],
   "source": [
    "num_preused_features = 24\n",
    "augment_factor = 20"
   ]
  },
  {
   "cell_type": "code",
   "execution_count": 7,
   "metadata": {},
   "outputs": [],
   "source": [
    "vgg16 = models.vgg16(weights='DEFAULT')"
   ]
  },
  {
   "cell_type": "code",
   "execution_count": 9,
   "metadata": {},
   "outputs": [],
   "source": [
    "class AugmentDataset(Dataset):\n",
    "\tdef __init__(self, dataset, expansion):\n",
    "\t\tself.dataset = dataset\n",
    "\t\tself.expansion = expansion\n",
    "\n",
    "\tdef __len__(self):\n",
    "\t\treturn len(self.dataset) * self.expansion\n",
    "\n",
    "\tdef __getitem__(self, idx):\n",
    "\t\toriginal, label = self.dataset[idx % len(self.dataset)]\n",
    "\t\treturn original, label"
   ]
  },
  {
   "cell_type": "code",
   "execution_count": 8,
   "metadata": {},
   "outputs": [],
   "source": [
    "vgg16_prefix = vgg16.features[:num_preused_features]\n",
    "vgg16_prefix.to(device)\n",
    "\n",
    "class PrecomputeDataset(Dataset):\n",
    "\tdef __init__(self, dataset):\n",
    "\t\tself.dataset = dataset\n",
    "\t\tself.precomputed = {}\n",
    "\n",
    "\tdef __len__(self):\n",
    "\t\treturn len(self.dataset)\n",
    "\n",
    "\tdef __getitem__(self, idx):\n",
    "\t\tif idx not in self.precomputed:\n",
    "\t\t\toriginal, label = self.dataset[idx]\n",
    "\t\t\tprecomputed = vgg16_prefix(original.to(device)).detach().cpu()\n",
    "\t\t\tself.precomputed[idx] = (precomputed, label)\n",
    "\t\treturn self.precomputed[idx]"
   ]
  },
  {
   "cell_type": "code",
   "execution_count": 10,
   "metadata": {},
   "outputs": [],
   "source": [
    "transform_train = transforms.Compose([\n",
    "\ttransforms.Resize((224, 224)),\n",
    "\ttransforms.RandomRotation(30), \n",
    "\ttransforms.RandomHorizontalFlip(),\n",
    "\ttransforms.ColorJitter(brightness=0.4, contrast=0.4, saturation=0.4, hue=0.1),\n",
    "\ttransforms.ToTensor(),\n",
    "\ttransforms.Normalize(mean=[0.485, 0.456, 0.406], std=[0.229, 0.224, 0.225])\n",
    "])\n",
    "\n",
    "transform_test = transforms.Compose([\n",
    "\ttransforms.Resize((224, 224)),\n",
    "\ttransforms.ToTensor(),\n",
    "\ttransforms.Normalize(mean=[0.485, 0.456, 0.406], std=[0.229, 0.224, 0.225])  \n",
    "])\n",
    "\n",
    "\n",
    "train_dataset = datasets.ImageFolder('data', transform=transform_train)\n",
    "test_dataset = datasets.ImageFolder('data', transform=transform_test)\n",
    "\n",
    "indices = torch.randperm(len(train_dataset))\n",
    "train_size = int(TRAIN_PORTION * len(train_dataset))\n",
    "\n",
    "train_dataset = torch.utils.data.Subset(train_dataset, indices[:train_size])\n",
    "test_dataset = torch.utils.data.Subset(test_dataset, indices[train_size:])\n",
    "\n",
    "train_dataset = AugmentDataset(train_dataset, augment_factor)\n",
    "\n",
    "train_dataset = PrecomputeDataset(train_dataset)\n",
    "test_dataset = PrecomputeDataset(test_dataset)\n",
    "\n",
    "train_loader = DataLoader(train_dataset, batch_size=64, shuffle=True)\n",
    "test_loader = DataLoader(test_dataset, batch_size=64, shuffle=True)"
   ]
  },
  {
   "cell_type": "code",
   "execution_count": 11,
   "metadata": {},
   "outputs": [],
   "source": [
    "class PrecomputedClassifier(nn.Module):\n",
    "\tdef __init__(self):\n",
    "\t\tsuper(PrecomputedClassifier, self).__init__()\n",
    "\t\tself.seq = nn.Sequential(\n",
    "\t\t\tnn.Conv2d(512, 256, kernel_size=3),\n",
    "\t\t\tnn.ReLU(),\n",
    "\t\t\tnn.Conv2d(256, 128, kernel_size=3),\n",
    "\t\t\tnn.ReLU(),\n",
    "\t\t\tnn.Flatten(start_dim=-3), # flatten all but batch dimension\n",
    "\t\t\tnn.Linear(12800, 4096),\n",
    "\t\t\tnn.ReLU(),\n",
    "\t\t\tnn.BatchNorm1d(4096),\n",
    "\t\t\tnn.Linear(4096, 2048),\n",
    "\t\t\tnn.ReLU(),\n",
    "\t\t\tnn.BatchNorm1d(2048),\n",
    "\t\t\tnn.Dropout(0.5),\n",
    "\t\t\tnn.Linear(2048, 1024),\n",
    "\t\t\tnn.ReLU(),\n",
    "\t\t\tnn.BatchNorm1d(1024),\n",
    "\t\t\tnn.Dropout(0.5),\n",
    "\t\t\tnn.Linear(1024, 512),\n",
    "\t\t\tnn.ReLU(),\n",
    "\t\t\tnn.BatchNorm1d(512),\n",
    "\t\t\tnn.Linear(512, 2),\n",
    "\t\t)\n",
    "\n",
    "\tdef forward(self, x):\n",
    "\t\treturn self.seq(x)"
   ]
  },
  {
   "cell_type": "code",
   "execution_count": 12,
   "metadata": {},
   "outputs": [],
   "source": [
    "model = PrecomputedClassifier().to(device)\n",
    "\n",
    "criterion = nn.CrossEntropyLoss()\n",
    "optimizer = torch.optim.Adam(model.parameters(), lr=0.0001, weight_decay=1E-5)"
   ]
  },
  {
   "cell_type": "code",
   "execution_count": 13,
   "metadata": {},
   "outputs": [
    {
     "name": "stdout",
     "output_type": "stream",
     "text": [
      "seq.0.weight :    1,179,648\n",
      "seq.0.bias   :          256\n",
      "seq.2.weight :      294,912\n",
      "seq.2.bias   :          128\n",
      "seq.5.weight :   52,428,800\n",
      "seq.5.bias   :        4,096\n",
      "seq.7.weight :        4,096\n",
      "seq.7.bias   :        4,096\n",
      "seq.8.weight :    8,388,608\n",
      "seq.8.bias   :        2,048\n",
      "seq.10.weight:        2,048\n",
      "seq.10.bias  :        2,048\n",
      "seq.12.weight:    2,097,152\n",
      "seq.12.bias  :        1,024\n",
      "seq.14.weight:        1,024\n",
      "seq.14.bias  :        1,024\n",
      "seq.16.weight:      524,288\n",
      "seq.16.bias  :          512\n",
      "seq.18.weight:          512\n",
      "seq.18.bias  :          512\n",
      "seq.19.weight:        1,024\n",
      "seq.19.bias  :            2\n",
      "---------------------------\n",
      "Total:           64,937,858\n"
     ]
    }
   ],
   "source": [
    "s = sum(p.numel() for p in model.parameters())\n",
    "for name, p in model.named_parameters():\n",
    "\tprint(f\"{name: <13}: {p.numel(): >12,}\")\n",
    "\n",
    "print('-' * 27)\n",
    "print(f\"Total: {s: >20,}\")"
   ]
  },
  {
   "cell_type": "code",
   "execution_count": 14,
   "metadata": {},
   "outputs": [
    {
     "data": {
      "application/vnd.jupyter.widget-view+json": {
       "model_id": "c87a3c22838e4cabaa57611a27cd4671",
       "version_major": 2,
       "version_minor": 0
      },
      "text/plain": [
       "Epoch 1/10:   0%|          | 0/510 [00:00<?, ?it/s]"
      ]
     },
     "metadata": {},
     "output_type": "display_data"
    },
    {
     "name": "stderr",
     "output_type": "stream",
     "text": [
      "/home/aurora/miniconda3/lib/python3.11/site-packages/torch/nn/modules/conv.py:456: UserWarning: Applied workaround for CuDNN issue, install nvrtc.so (Triggered internally at /opt/conda/conda-bld/pytorch_1702400440653/work/aten/src/ATen/native/cudnn/Conv_v8.cpp:80.)\n",
      "  return F.conv2d(input, weight, bias, self.stride,\n"
     ]
    },
    {
     "data": {
      "application/vnd.jupyter.widget-view+json": {
       "model_id": "3f9f6a5912f2441e81a9be354f3c20a8",
       "version_major": 2,
       "version_minor": 0
      },
      "text/plain": [
       "Epoch 2/10:   0%|          | 0/510 [00:00<?, ?it/s]"
      ]
     },
     "metadata": {},
     "output_type": "display_data"
    },
    {
     "data": {
      "application/vnd.jupyter.widget-view+json": {
       "model_id": "1246f7c65d124a1ba7c28c23a2cc4b0d",
       "version_major": 2,
       "version_minor": 0
      },
      "text/plain": [
       "Epoch 3/10:   0%|          | 0/510 [00:00<?, ?it/s]"
      ]
     },
     "metadata": {},
     "output_type": "display_data"
    },
    {
     "data": {
      "application/vnd.jupyter.widget-view+json": {
       "model_id": "466e7d9f814144fb9167422e3067a2cb",
       "version_major": 2,
       "version_minor": 0
      },
      "text/plain": [
       "Epoch 4/10:   0%|          | 0/510 [00:00<?, ?it/s]"
      ]
     },
     "metadata": {},
     "output_type": "display_data"
    },
    {
     "data": {
      "application/vnd.jupyter.widget-view+json": {
       "model_id": "9ff45514c70a4ba1ad3fce9ac7305697",
       "version_major": 2,
       "version_minor": 0
      },
      "text/plain": [
       "Epoch 5/10:   0%|          | 0/510 [00:00<?, ?it/s]"
      ]
     },
     "metadata": {},
     "output_type": "display_data"
    },
    {
     "data": {
      "application/vnd.jupyter.widget-view+json": {
       "model_id": "967d4e8f64a241688949d1a9609fe549",
       "version_major": 2,
       "version_minor": 0
      },
      "text/plain": [
       "Epoch 6/10:   0%|          | 0/510 [00:00<?, ?it/s]"
      ]
     },
     "metadata": {},
     "output_type": "display_data"
    },
    {
     "data": {
      "application/vnd.jupyter.widget-view+json": {
       "model_id": "2f51b84cc6114f50be1f13481f2b8483",
       "version_major": 2,
       "version_minor": 0
      },
      "text/plain": [
       "Epoch 7/10:   0%|          | 0/510 [00:00<?, ?it/s]"
      ]
     },
     "metadata": {},
     "output_type": "display_data"
    },
    {
     "data": {
      "application/vnd.jupyter.widget-view+json": {
       "model_id": "690d47911c1449d085c925366e0e3235",
       "version_major": 2,
       "version_minor": 0
      },
      "text/plain": [
       "Epoch 8/10:   0%|          | 0/510 [00:00<?, ?it/s]"
      ]
     },
     "metadata": {},
     "output_type": "display_data"
    },
    {
     "data": {
      "application/vnd.jupyter.widget-view+json": {
       "model_id": "f080d5abcb0d4250b4a72e1c7a00afa9",
       "version_major": 2,
       "version_minor": 0
      },
      "text/plain": [
       "Epoch 9/10:   0%|          | 0/510 [00:00<?, ?it/s]"
      ]
     },
     "metadata": {},
     "output_type": "display_data"
    },
    {
     "data": {
      "application/vnd.jupyter.widget-view+json": {
       "model_id": "6a087a0fa36044b1beb11822562f873b",
       "version_major": 2,
       "version_minor": 0
      },
      "text/plain": [
       "Epoch 10/10:   0%|          | 0/510 [00:00<?, ?it/s]"
      ]
     },
     "metadata": {},
     "output_type": "display_data"
    }
   ],
   "source": [
    "from collections import defaultdict\n",
    "\n",
    "epochs = 10\n",
    "history = defaultdict(list)\n",
    "\n",
    "for epoch in range(epochs):\n",
    "\tfor i, (inputs, label) in (pbar := tqdm(enumerate(train_loader, 1), total=len(train_loader), desc=f\"Epoch {epoch + 1}/{epochs}\")):\n",
    "\t\toptimizer.zero_grad()\n",
    "\n",
    "\t\tinputs = inputs.to(device)\n",
    "\t\tlabel = label.to(device)\n",
    "\n",
    "\t\toutputs = model(inputs)\n",
    "\t\tloss = criterion(outputs, label)\n",
    "\n",
    "\t\tloss.backward()\n",
    "\t\toptimizer.step()\n",
    "\n",
    "\t\thistory[\"loss\"].append(loss.item())\n",
    "\t\tpbar.set_postfix(loss=loss.item())\n"
   ]
  },
  {
   "cell_type": "code",
   "execution_count": 15,
   "metadata": {},
   "outputs": [
    {
     "data": {
      "text/plain": [
       "[<matplotlib.lines.Line2D at 0x7fcd38bb6010>]"
      ]
     },
     "execution_count": 15,
     "metadata": {},
     "output_type": "execute_result"
    },
    {
     "data": {
      "image/png": "[encoded data removed]",
      "text/plain": [
       "<Figure size 640x480 with 1 Axes>"
      ]
     },
     "metadata": {},
     "output_type": "display_data"
    }
   ],
   "source": [
    "plt.plot(history[\"loss\"])"
   ]
  },
  {
   "cell_type": "code",
   "execution_count": 18,
   "metadata": {},
   "outputs": [],
   "source": [
    "torch.save(model.state_dict(), 'vgg16_model.pt')"
   ]
  },
  {
   "cell_type": "code",
   "execution_count": null,
   "metadata": {},
   "outputs": [],
   "source": [
    "model = torch.load('vgg16_model.pt')"
   ]
  },
  {
   "cell_type": "code",
   "execution_count": 16,
   "metadata": {},
   "outputs": [
    {
     "name": "stdout",
     "output_type": "stream",
     "text": [
      "Accuracy of the network on the 409 test images: 67.24%\n"
     ]
    }
   ],
   "source": [
    "correct = 0\n",
    "total = 0\n",
    "\n",
    "with torch.no_grad():\n",
    "\tfor inputs, label in test_loader:\n",
    "\t\tinputs = inputs.to(device)\n",
    "\t\tlabel = label.to(device)\n",
    "\t\toutputs = model(inputs)\n",
    "\t\t_, predicted = torch.max(outputs.data, 1)\n",
    "\t\ttotal += label.size(0)\n",
    "\t\tcorrect += (predicted == label).sum().item()\n",
    "\n",
    "print(f'Accuracy of the network on the {total} test images: {100 * correct / total:.2f}%')"
   ]
  },
  {
   "cell_type": "code",
   "execution_count": 17,
   "metadata": {},
   "outputs": [
    {
     "name": "stdout",
     "output_type": "stream",
     "text": [
      "Accuracy of the network on the 32640 train images: 99.32%\n"
     ]
    }
   ],
   "source": [
    "correct = 0\n",
    "total = 0\n",
    "\n",
    "with torch.no_grad():\n",
    "\tfor inputs, label in train_loader:\n",
    "\t\tinputs = inputs.to(device)\n",
    "\t\tlabel = label.to(device)\n",
    "\t\toutputs = model(inputs)\n",
    "\t\t_, predicted = torch.max(outputs.data, 1)\n",
    "\t\ttotal += label.size(0)\n",
    "\t\tcorrect += (predicted == label).sum().item()\n",
    "\n",
    "print(f'Accuracy of the network on the {total} train images: {100 * correct / total:.2f}%')"
   ]
  },
  {
   "attachments": {},
   "cell_type": "markdown",
   "metadata": {},
   "source": [
    "# Multi model approach"
   ]
  },
  {
   "cell_type": "code",
   "execution_count": 8,
   "metadata": {},
   "outputs": [],
   "source": [
    "transform = transforms.Compose([\n",
    "\ttransforms.ToTensor(),\n",
    "\ttransforms.Normalize((0.5,), (0.5,))\n",
    "])"
   ]
  },
  {
   "cell_type": "code",
   "execution_count": 9,
   "metadata": {},
   "outputs": [],
   "source": [
    "train_names = ['left_eye', 'right_eye', 'mouth', 'nose']\n",
    "train_datasets = {name: datasets.ImageFolder(f'data_{name}', transform=transform) for name in train_names}"
   ]
  },
  {
   "cell_type": "code",
   "execution_count": 10,
   "metadata": {},
   "outputs": [],
   "source": [
    "train_loaders = {name: DataLoader(train_datasets[name], batch_size=64, shuffle=True) for name in train_names}"
   ]
  },
  {
   "cell_type": "code",
   "execution_count": 11,
   "metadata": {},
   "outputs": [],
   "source": [
    "models = {name: FaceClasifier().to(device) for name in train_names}\n",
    "optimizers = {name: torch.optim.Adam(models[name].parameters(), lr=0.001) for name in train_names}\n",
    "criteria = nn.CrossEntropyLoss()"
   ]
  },
  {
   "cell_type": "code",
   "execution_count": 13,
   "metadata": {},
   "outputs": [
    {
     "data": {
      "application/vnd.jupyter.widget-view+json": {
       "model_id": "64c50fa09e404b1aaf12e869bf31e15f",
       "version_major": 2,
       "version_minor": 0
      },
      "text/plain": [
       "[left_eye] Epoch 1/1:   0%|          | 0/22 [00:00<?, ?it/s]"
      ]
     },
     "metadata": {},
     "output_type": "display_data"
    },
    {
     "data": {
      "application/vnd.jupyter.widget-view+json": {
       "model_id": "45f4f5d2d47344d0945e5ece6c370da5",
       "version_major": 2,
       "version_minor": 0
      },
      "text/plain": [
       "[right_eye] Epoch 1/1:   0%|          | 0/22 [00:00<?, ?it/s]"
      ]
     },
     "metadata": {},
     "output_type": "display_data"
    },
    {
     "data": {
      "application/vnd.jupyter.widget-view+json": {
       "model_id": "d194d6959c6641ee94d17624c44b4a53",
       "version_major": 2,
       "version_minor": 0
      },
      "text/plain": [
       "[mouth] Epoch 1/1:   0%|          | 0/22 [00:00<?, ?it/s]"
      ]
     },
     "metadata": {},
     "output_type": "display_data"
    },
    {
     "data": {
      "application/vnd.jupyter.widget-view+json": {
       "model_id": "74e1bbaaa17241fcb95e4d424fced6ac",
       "version_major": 2,
       "version_minor": 0
      },
      "text/plain": [
       "[nose] Epoch 1/1:   0%|          | 0/22 [00:00<?, ?it/s]"
      ]
     },
     "metadata": {},
     "output_type": "display_data"
    }
   ],
   "source": [
    "epochs = 1\n",
    "from collections import defaultdict\n",
    "\n",
    "train_losses = {name: defaultdict(list) for name in train_names}\n",
    "\n",
    "for feature in train_names:\n",
    "\tmodel = models[feature]\n",
    "\toptimizer = optimizers[feature]\n",
    "\tloader = train_loaders[feature]\n",
    "\thistory = train_losses[feature]\n",
    "\tfor epoch in range(epochs):\n",
    "\t\tfor i, (train, label) in tqdm(enumerate(loader, 1), total=len(loader), desc=f\"[{feature}] Epoch {epoch + 1}/{epochs}\"):\n",
    "\t\t\ttrain = train.to(device)\n",
    "\t\t\tlabel = label.to(device)\n",
    "\t\t\toptimizer.zero_grad()\n",
    "\t\t\toutputs = model(train)\n",
    "\t\t\tloss = criteria(outputs, label)\n",
    "\t\t\tloss.backward()\n",
    "\t\t\toptimizer.step()\n",
    "\t\t\thistory[\"batch\"].append(i + len(loader) * epoch)\n",
    "\t\t\thistory[\"loss\"].append(loss.item())"
   ]
  },
  {
   "cell_type": "code",
   "execution_count": 14,
   "metadata": {},
   "outputs": [],
   "source": [
    "torch.save(models, 'models.pt')"
   ]
  },
  {
   "cell_type": "code",
   "execution_count": 12,
   "metadata": {},
   "outputs": [],
   "source": [
    "models = torch.load('models.pt')\n",
    "for m in models.values():\n",
    "\tm.to(device)"
   ]
  },
  {
   "cell_type": "code",
   "execution_count": null,
   "metadata": {},
   "outputs": [],
   "source": [
    "import matplotlib.pyplot as plt\n",
    "\n",
    "# show a 2 by 2 grid\n",
    "fig, axs = plt.subplots(2, 2, figsize=(15, 15))\n",
    "\n",
    "for i, feature in enumerate(train_names):\n",
    "\taxs[i // 2, i % 2].plot(train_losses[feature][\"batch\"], train_losses[feature][\"loss\"])\n",
    "\taxs[i // 2, i % 2].set_title(feature)\n",
    "\taxs[i // 2, i % 2].set_xlabel(\"batch\")\n",
    "\taxs[i // 2, i % 2].set_ylim(0, 1)"
   ]
  },
  {
   "cell_type": "code",
   "execution_count": 13,
   "metadata": {},
   "outputs": [
    {
     "data": {
      "text/plain": [
       "torch.Size([64, 3, 600, 600])"
      ]
     },
     "execution_count": 13,
     "metadata": {},
     "output_type": "execute_result"
    }
   ],
   "source": [
    "train = datasets.ImageFolder('data_train', transform=transform)\n",
    "train = DataLoader(train, batch_size=64, shuffle=True)\n",
    "\n",
    "dat, i = next(iter(train))\n",
    "dat.shape"
   ]
  },
  {
   "cell_type": "code",
   "execution_count": 13,
   "metadata": {},
   "outputs": [],
   "source": [
    "class EnsembleModel(nn.Module):\n",
    "\tdef __init__(self):\n",
    "\t\tsuper(EnsembleModel, self).__init__()\n",
    "\t\tself.fc1 = nn.Linear(8, 32)\n",
    "\t\tself.fc2 = nn.Linear(32, 2)\n",
    "\t\tself.relu = nn.LeakyReLU()\n",
    "\n",
    "\tdef forward(self, x):\n",
    "\t\tx = self.relu(self.fc1(x))\n",
    "\t\tx = self.fc2(x)\n",
    "\t\treturn x"
   ]
  },
  {
   "cell_type": "code",
   "execution_count": 14,
   "metadata": {},
   "outputs": [],
   "source": [
    "ensemblemodel = EnsembleModel().to(device)\n",
    "optimizer = torch.optim.Adam(params=ensemblemodel.parameters(), lr=0.001)\n",
    "criteria = nn.CrossEntropyLoss()"
   ]
  },
  {
   "cell_type": "code",
   "execution_count": 17,
   "metadata": {},
   "outputs": [
    {
     "data": {
      "application/vnd.jupyter.widget-view+json": {
       "model_id": "b78d2960e5b14345a2b5a4d30245eb2e",
       "version_major": 2,
       "version_minor": 0
      },
      "text/plain": [
       "  0%|          | 0/26 [00:00<?, ?it/s]"
      ]
     },
     "metadata": {},
     "output_type": "display_data"
    }
   ],
   "source": [
    "batches = []\n",
    "for (inputs, label) in tqdm(train, total=len(train)):\n",
    "\twith torch.no_grad():\n",
    "\t\tys = [models[name](inputs) for name in train_names]\n",
    "\t\tz = torch.cat(ys, dim=1)\n",
    "\t\tbatches.append((z, label))"
   ]
  },
  {
   "cell_type": "code",
   "execution_count": null,
   "metadata": {},
   "outputs": [],
   "source": [
    "epochs = 50\n",
    "for epoch in range(epochs):\n",
    "\tfor i,(inputs, label) in tqdm(enumerate(batches, 1), total=len(batches), desc=f\"Epoch {epoch + 1}/{epochs}\"):\n",
    "\t\tinputs = inputs.to(device)\n",
    "\t\tlabel = label.to(device)\n",
    "\t\toptimizer.zero_grad()\n",
    "\t\toutput = ensemblemodel(inputs)\n",
    "\t\tloss = criteria(output, label)\n",
    "\t\tloss.backward()\n",
    "\t\toptimizer.step()\n",
    "\n",
    "torch.save(ensemblemodel, 'ensemble_model.pt')\n",
    "print('Finished Training')"
   ]
  },
  {
   "cell_type": "code",
   "execution_count": 22,
   "metadata": {},
   "outputs": [],
   "source": [
    "torch.save(ensemblemodel, 'ensemble_model.pt')"
   ]
  },
  {
   "cell_type": "code",
   "execution_count": 15,
   "metadata": {},
   "outputs": [
    {
     "data": {
      "text/plain": [
       "EnsembleModel(\n",
       "  (fc1): Linear(in_features=8, out_features=32, bias=True)\n",
       "  (fc2): Linear(in_features=32, out_features=2, bias=True)\n",
       "  (relu): LeakyReLU(negative_slope=0.01)\n",
       ")"
      ]
     },
     "execution_count": 15,
     "metadata": {},
     "output_type": "execute_result"
    }
   ],
   "source": [
    "ensemblemodel = torch.load('ensemble_model.pt')\n",
    "ensemblemodel.to(device)"
   ]
  },
  {
   "cell_type": "code",
   "execution_count": 16,
   "metadata": {},
   "outputs": [],
   "source": [
    "test_dataset = datasets.ImageFolder('data_test', transform=transform)\n",
    "test_loader = DataLoader(test_dataset, batch_size=64, shuffle=True)"
   ]
  },
  {
   "cell_type": "code",
   "execution_count": 20,
   "metadata": {},
   "outputs": [],
   "source": [
    "test_batches = []\n",
    "for inputs, label in test_loader:\n",
    "\tinputs = inputs.to(device)\n",
    "\tlabel = label.to(device)\n",
    "\twith torch.no_grad():\n",
    "\t\tys = [models[name](inputs) for name in train_names]\n",
    "\t\tz = torch.cat(ys, dim=1)\n",
    "\t\ttest_batches.append((z, label))"
   ]
  },
  {
   "cell_type": "code",
   "execution_count": 19,
   "metadata": {},
   "outputs": [
    {
     "name": "stdout",
     "output_type": "stream",
     "text": [
      "Accuracy of the network on the 410 test images: 56.83%\n"
     ]
    }
   ],
   "source": [
    "correct = 0\n",
    "\n",
    "for inputs, label in test_batches:\n",
    "\twith torch.no_grad():\n",
    "\t\toutput = ensemblemodel(inputs)\n",
    "\t\t_, predicted = torch.max(output.data, 1)\n",
    "\t\tcorrect += (predicted == label).sum().item()\n",
    "\n",
    "print(f'Accuracy of the network on the {len(test_dataset)} test images: {100 * correct / len(test_dataset):.2f}%')"
   ]
  },
  {
   "attachments": {},
   "cell_type": "markdown",
   "metadata": {},
   "source": [
    "## Multi model using VGG 16"
   ]
  }
 ],
 "metadata": {
  "kernelspec": {
   "display_name": "base",
   "language": "python",
   "name": "python3"
  },
  "language_info": {
   "codemirror_mode": {
    "name": "ipython",
    "version": 3
   },
   "file_extension": ".py",
   "mimetype": "text/x-python",
   "name": "python",
   "nbconvert_exporter": "python",
   "pygments_lexer": "ipython3",
   "version": "3.11.7"
  },
  "orig_nbformat": 4
 },
 "nbformat": 4,
 "nbformat_minor": 2
}
